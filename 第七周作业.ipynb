{
 "cells": [
  {
   "cell_type": "code",
   "execution_count": 52,
   "id": "9ac0f086",
   "metadata": {},
   "outputs": [],
   "source": [
    "import pickle#先导入老师课堂上说的我们需要的模块\n",
    "import pandas as pd#如果没有就要install下载，或者pip install，或者conda install\n",
    "import numpy"
   ]
  },
  {
   "cell_type": "code",
   "execution_count": 53,
   "id": "9bf4d1ea",
   "metadata": {},
   "outputs": [
    {
     "data": {
      "text/plain": [
       "[('CTT', 'L', 'Leu'),\n",
       " ('ATG', 'M', 'Met'),\n",
       " ('ACA', 'T', 'Thr'),\n",
       " ('ACG', 'T', 'Thr'),\n",
       " ('ATC', 'I', 'Ile'),\n",
       " ('ATA', 'I', 'Ile'),\n",
       " ('AGG', 'R', 'Arg'),\n",
       " ('CCT', 'P', 'Pro'),\n",
       " ('AGC', 'S', 'Ser'),\n",
       " ('AGA', 'R', 'Arg'),\n",
       " ('ATT', 'I', 'Ile'),\n",
       " ('CTG', 'L', 'Leu'),\n",
       " ('CTA', 'L', 'Leu'),\n",
       " ('CTC', 'L', 'Leu'),\n",
       " ('CCG', 'P', 'Pro'),\n",
       " ('AGT', 'S', 'Ser'),\n",
       " ('CCA', 'P', 'Pro'),\n",
       " ('CCC', 'P', 'Pro'),\n",
       " ('TAT', 'Y', 'Tyr'),\n",
       " ('GGT', 'G', 'Gly'),\n",
       " ('CGA', 'R', 'Arg'),\n",
       " ('CGC', 'R', 'Arg'),\n",
       " ('CGG', 'R', 'Arg'),\n",
       " ('GGG', 'G', 'Gly'),\n",
       " ('GGA', 'G', 'Gly'),\n",
       " ('GGC', 'G', 'Gly'),\n",
       " ('TAC', 'Y', 'Tyr'),\n",
       " ('CGT', 'R', 'Arg'),\n",
       " ('GTA', 'V', 'Val'),\n",
       " ('GTC', 'V', 'Val'),\n",
       " ('GTG', 'V', 'Val'),\n",
       " ('GAG', 'E', 'Glu'),\n",
       " ('GTT', 'V', 'Val'),\n",
       " ('GAC', 'D', 'Asp'),\n",
       " ('AAG', 'K', 'Lys'),\n",
       " ('AAA', 'K', 'Lys'),\n",
       " ('AAC', 'N', 'Asn'),\n",
       " ('ACT', 'T', 'Thr'),\n",
       " ('CAT', 'H', 'His'),\n",
       " ('AAT', 'N', 'Asn'),\n",
       " ('CAC', 'H', 'His'),\n",
       " ('CAA', 'Q', 'Gln'),\n",
       " ('CAG', 'Q', 'Gln'),\n",
       " ('TGT', 'C', 'Cys'),\n",
       " ('TCT', 'S', 'Ser'),\n",
       " ('GAT', 'D', 'Asp'),\n",
       " ('TTT', 'F', 'Phe'),\n",
       " ('TGC', 'C', 'Cys'),\n",
       " ('TGG', 'W', 'Trp'),\n",
       " ('TTC', 'F', 'Phe'),\n",
       " ('TCG', 'S', 'Ser'),\n",
       " ('TTA', 'L', 'Leu'),\n",
       " ('TTG', 'L', 'Leu'),\n",
       " ('TCC', 'S', 'Ser'),\n",
       " ('GAA', 'E', 'Glu'),\n",
       " ('TCA', 'S', 'Ser'),\n",
       " ('GCA', 'A', 'Ala'),\n",
       " ('GCC', 'A', 'Ala'),\n",
       " ('GCG', 'A', 'Ala'),\n",
       " ('GCT', 'A', 'Ala'),\n",
       " ('ACC', 'T', 'Thr')]"
      ]
     },
     "execution_count": 53,
     "metadata": {},
     "output_type": "execute_result"
    }
   ],
   "source": [
    "with open ('d:\\codon_tuple.pickle','rb') as f:#打开读取文件\n",
    "    data = pickle.load(f)\n",
    "data#发现文件是一个列表"
   ]
  },
  {
   "cell_type": "code",
   "execution_count": 54,
   "id": "272012e3",
   "metadata": {},
   "outputs": [
    {
     "data": {
      "text/plain": [
       "('ATG', 'M', 'Met')"
      ]
     },
     "execution_count": 54,
     "metadata": {},
     "output_type": "execute_result"
    }
   ],
   "source": [
    "data[1]"
   ]
  },
  {
   "cell_type": "code",
   "execution_count": 55,
   "id": "664d6f76",
   "metadata": {},
   "outputs": [
    {
     "data": {
      "text/plain": [
       "'M'"
      ]
     },
     "execution_count": 55,
     "metadata": {},
     "output_type": "execute_result"
    }
   ],
   "source": [
    "data[1][1]"
   ]
  },
  {
   "cell_type": "code",
   "execution_count": 56,
   "id": "99589fe0",
   "metadata": {},
   "outputs": [],
   "source": [
    "a=[]#将元素提取出来，分别组成三个列表，用于构建二重列表\n",
    "b=[]#这里也可以构建字典，我选择的是构建二重列表\n",
    "c=[]\n",
    "for i in range(0,len(data)):#使用循环提取每个元素里具体位置的元素\n",
    "    a.append(data[i][0])\n",
    "for i in range(0,len(data)):\n",
    "    b.append(data[i][1])"
   ]
  },
  {
   "cell_type": "code",
   "execution_count": 57,
   "id": "68f360f4",
   "metadata": {},
   "outputs": [],
   "source": [
    "for i in range(0,len(data)):\n",
    "    c.append(data[i][2])\n",
    "    \n",
    "d=[list(x) for x in zip(b,c)]#使用zip函数打包成二重列表"
   ]
  },
  {
   "cell_type": "code",
   "execution_count": 63,
   "id": "504b22ac",
   "metadata": {},
   "outputs": [
    {
     "data": {
      "text/html": [
       "<div>\n",
       "<style scoped>\n",
       "    .dataframe tbody tr th:only-of-type {\n",
       "        vertical-align: middle;\n",
       "    }\n",
       "\n",
       "    .dataframe tbody tr th {\n",
       "        vertical-align: top;\n",
       "    }\n",
       "\n",
       "    .dataframe thead th {\n",
       "        text-align: right;\n",
       "    }\n",
       "</style>\n",
       "<table border=\"1\" class=\"dataframe\">\n",
       "  <thead>\n",
       "    <tr style=\"text-align: right;\">\n",
       "      <th></th>\n",
       "      <th>single</th>\n",
       "      <th>triple</th>\n",
       "    </tr>\n",
       "  </thead>\n",
       "  <tbody>\n",
       "    <tr>\n",
       "      <th>CTT</th>\n",
       "      <td>L</td>\n",
       "      <td>Leu</td>\n",
       "    </tr>\n",
       "    <tr>\n",
       "      <th>ATG</th>\n",
       "      <td>M</td>\n",
       "      <td>Met</td>\n",
       "    </tr>\n",
       "    <tr>\n",
       "      <th>ACA</th>\n",
       "      <td>T</td>\n",
       "      <td>Thr</td>\n",
       "    </tr>\n",
       "    <tr>\n",
       "      <th>ACG</th>\n",
       "      <td>T</td>\n",
       "      <td>Thr</td>\n",
       "    </tr>\n",
       "    <tr>\n",
       "      <th>ATC</th>\n",
       "      <td>I</td>\n",
       "      <td>Ile</td>\n",
       "    </tr>\n",
       "    <tr>\n",
       "      <th>...</th>\n",
       "      <td>...</td>\n",
       "      <td>...</td>\n",
       "    </tr>\n",
       "    <tr>\n",
       "      <th>GCA</th>\n",
       "      <td>A</td>\n",
       "      <td>Ala</td>\n",
       "    </tr>\n",
       "    <tr>\n",
       "      <th>GCC</th>\n",
       "      <td>A</td>\n",
       "      <td>Ala</td>\n",
       "    </tr>\n",
       "    <tr>\n",
       "      <th>GCG</th>\n",
       "      <td>A</td>\n",
       "      <td>Ala</td>\n",
       "    </tr>\n",
       "    <tr>\n",
       "      <th>GCT</th>\n",
       "      <td>A</td>\n",
       "      <td>Ala</td>\n",
       "    </tr>\n",
       "    <tr>\n",
       "      <th>ACC</th>\n",
       "      <td>T</td>\n",
       "      <td>Thr</td>\n",
       "    </tr>\n",
       "  </tbody>\n",
       "</table>\n",
       "<p>61 rows × 2 columns</p>\n",
       "</div>"
      ],
      "text/plain": [
       "    single triple\n",
       "CTT      L    Leu\n",
       "ATG      M    Met\n",
       "ACA      T    Thr\n",
       "ACG      T    Thr\n",
       "ATC      I    Ile\n",
       "..     ...    ...\n",
       "GCA      A    Ala\n",
       "GCC      A    Ala\n",
       "GCG      A    Ala\n",
       "GCT      A    Ala\n",
       "ACC      T    Thr\n",
       "\n",
       "[61 rows x 2 columns]"
      ]
     },
     "execution_count": 63,
     "metadata": {},
     "output_type": "execute_result"
    }
   ],
   "source": [
    "pd.DataFrame(d,index=a,\n",
    "               columns=['single','triple'])#最后使用pd里的DATAFRAME方法实现功能"
   ]
  },
  {
   "cell_type": "code",
   "execution_count": null,
   "id": "b7f20fd6",
   "metadata": {},
   "outputs": [],
   "source": []
  }
 ],
 "metadata": {
  "kernelspec": {
   "display_name": "Python 3",
   "language": "python",
   "name": "python3"
  },
  "language_info": {
   "codemirror_mode": {
    "name": "ipython",
    "version": 3
   },
   "file_extension": ".py",
   "mimetype": "text/x-python",
   "name": "python",
   "nbconvert_exporter": "python",
   "pygments_lexer": "ipython3",
   "version": "3.8.8"
  }
 },
 "nbformat": 4,
 "nbformat_minor": 5
}
